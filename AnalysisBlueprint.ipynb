{
  "nbformat": 4,
  "nbformat_minor": 0,
  "metadata": {
    "colab": {
      "provenance": []
    },
    "kernelspec": {
      "name": "python3",
      "display_name": "Python 3"
    },
    "language_info": {
      "name": "python"
    }
  },
  "cells": [
    {
      "cell_type": "markdown",
      "source": [
        "## Import Libraries"
      ],
      "metadata": {
        "id": "MuNbd_cjSsO3"
      }
    },
    {
      "cell_type": "code",
      "execution_count": 1,
      "metadata": {
        "id": "I6NmrtpaSoJd"
      },
      "outputs": [],
      "source": [
        "import numpy as np\n",
        "import pandas as pd\n",
        "import matplotlib.pyplot as plt\n",
        "import seaborn as sns"
      ]
    },
    {
      "cell_type": "markdown",
      "source": [
        "## Read data"
      ],
      "metadata": {
        "id": "nFt2KM-0Suvl"
      }
    },
    {
      "cell_type": "code",
      "source": [
        "df = pd.read_csv('')"
      ],
      "metadata": {
        "id": "rVyMyNr0Sv4E"
      },
      "execution_count": null,
      "outputs": []
    },
    {
      "cell_type": "markdown",
      "source": [
        "### Data exploration"
      ],
      "metadata": {
        "id": "Lty5JcCtTQN_"
      }
    },
    {
      "cell_type": "code",
      "source": [
        "df.head() # see the data"
      ],
      "metadata": {
        "id": "y75hEvlqTAt6"
      },
      "execution_count": null,
      "outputs": []
    },
    {
      "cell_type": "code",
      "source": [
        "df.shape # rows,columns"
      ],
      "metadata": {
        "id": "_P_2jHfATCKh"
      },
      "execution_count": null,
      "outputs": []
    },
    {
      "cell_type": "code",
      "source": [
        "df.columns # column names"
      ],
      "metadata": {
        "id": "p309j2V0T05_"
      },
      "execution_count": null,
      "outputs": []
    },
    {
      "cell_type": "code",
      "source": [
        "df.info() # column datatype, non-null count"
      ],
      "metadata": {
        "id": "LfDNDUxXTHix"
      },
      "execution_count": null,
      "outputs": []
    },
    {
      "cell_type": "code",
      "source": [
        "df.describe() # basic stats - distributions - mean,range,median,sd"
      ],
      "metadata": {
        "id": "9hP6ID2oTK5c"
      },
      "execution_count": null,
      "outputs": []
    },
    {
      "cell_type": "code",
      "source": [
        "df.drop(columns=[], inplace=True) # pick columns needed"
      ],
      "metadata": {
        "id": "UmD_MJ3OV32r"
      },
      "execution_count": null,
      "outputs": []
    },
    {
      "cell_type": "markdown",
      "source": [
        "## Visualizations"
      ],
      "metadata": {
        "id": "lWm6zpEgT7qw"
      }
    },
    {
      "cell_type": "code",
      "source": [
        "plt.bar()"
      ],
      "metadata": {
        "id": "dHgXltJVT-FM"
      },
      "execution_count": null,
      "outputs": []
    },
    {
      "cell_type": "code",
      "source": [
        "plt.hist()"
      ],
      "metadata": {
        "id": "6ign9cnoUCcu"
      },
      "execution_count": null,
      "outputs": []
    },
    {
      "cell_type": "code",
      "source": [
        "df.col.value_counts()\n",
        "plt.pie()"
      ],
      "metadata": {
        "id": "wNIC9Q6xUDpk"
      },
      "execution_count": null,
      "outputs": []
    },
    {
      "cell_type": "code",
      "source": [
        "plt.scatter()"
      ],
      "metadata": {
        "id": "Rpy8YgLkUJxa"
      },
      "execution_count": null,
      "outputs": []
    },
    {
      "cell_type": "code",
      "source": [
        "plt.boxplot()"
      ],
      "metadata": {
        "id": "xJJpoA_pULxd"
      },
      "execution_count": null,
      "outputs": []
    },
    {
      "cell_type": "markdown",
      "source": [
        "### correlation"
      ],
      "metadata": {
        "id": "W3Wzmk8obxeU"
      }
    },
    {
      "cell_type": "code",
      "source": [
        "sns.pairplot()"
      ],
      "metadata": {
        "id": "3fEHG0l_bpp1"
      },
      "execution_count": null,
      "outputs": []
    },
    {
      "cell_type": "code",
      "source": [
        "df.corr()"
      ],
      "metadata": {
        "id": "UAFrcHTJbwSK"
      },
      "execution_count": null,
      "outputs": []
    },
    {
      "cell_type": "markdown",
      "source": [
        "## Null values"
      ],
      "metadata": {
        "id": "oci4_s21VB13"
      }
    },
    {
      "cell_type": "code",
      "source": [
        "df.isnull().sum()"
      ],
      "metadata": {
        "id": "0z4AsuKHUgb_"
      },
      "execution_count": null,
      "outputs": []
    },
    {
      "cell_type": "code",
      "source": [
        "df.replace('?',np.Nan)"
      ],
      "metadata": {
        "id": "DWR38rMHVl0g"
      },
      "execution_count": null,
      "outputs": []
    },
    {
      "cell_type": "code",
      "source": [
        "df.fillna() # categorical - mode # numeric - mean,median (based on box plot)"
      ],
      "metadata": {
        "id": "l1IQ0K_HVKls"
      },
      "execution_count": null,
      "outputs": []
    },
    {
      "cell_type": "code",
      "source": [
        "from sklearn.preprocessing import SimpleImputer\n",
        "si = SimpleImputer\n",
        "si.fit_transform(df[[]])"
      ],
      "metadata": {
        "id": "8a7MFl_fVL-n"
      },
      "execution_count": null,
      "outputs": []
    },
    {
      "cell_type": "markdown",
      "source": [
        "## Encoding"
      ],
      "metadata": {
        "id": "vtyPMu0WVxKH"
      }
    },
    {
      "cell_type": "code",
      "source": [
        "from sklearn.encoder import LabelEncoder\n",
        "le = LabelEncoder()\n",
        "df = le.fit_transform(df) # Label encoding"
      ],
      "metadata": {
        "id": "wkiUnUP1VRoj"
      },
      "execution_count": null,
      "outputs": []
    },
    {
      "cell_type": "code",
      "source": [
        "from sklearn.encoder import OneHotEncoder\n",
        "ohe.fit_transform() # One hot encoding / pd.get_dummies()"
      ],
      "metadata": {
        "id": "jwyvvNgdWZxb"
      },
      "execution_count": null,
      "outputs": []
    },
    {
      "cell_type": "markdown",
      "source": [
        "## Data split"
      ],
      "metadata": {
        "id": "wrPi1nlGYFe5"
      }
    },
    {
      "cell_type": "code",
      "source": [
        "df_X = df[[]] # independant variables\n",
        "df_Y = df[''] # dependant variable"
      ],
      "metadata": {
        "id": "X4aGblFXYnh-"
      },
      "execution_count": null,
      "outputs": []
    },
    {
      "cell_type": "markdown",
      "source": [
        "### Train-Test split"
      ],
      "metadata": {
        "id": "PoG3m2UIWka7"
      }
    },
    {
      "cell_type": "code",
      "source": [
        "from sklearn.model_selection import train_test_split\n",
        "xTrain,yTrain,xTest,yTest=train_test_split(X,y,0.2)"
      ],
      "metadata": {
        "id": "xZvBm5qGXlbz"
      },
      "execution_count": null,
      "outputs": []
    },
    {
      "cell_type": "markdown",
      "source": [
        "### k-fold Cross Validation"
      ],
      "metadata": {
        "id": "c916fBQ4X3K-"
      }
    },
    {
      "cell_type": "code",
      "source": [
        "from sklearn.something import CrossValidation, K-Fold\n",
        "CrossValidation(k=5)"
      ],
      "metadata": {
        "id": "lS6JphFpX5lY"
      },
      "execution_count": null,
      "outputs": []
    },
    {
      "cell_type": "markdown",
      "source": [
        "## Scaling"
      ],
      "metadata": {
        "id": "C1JwPDTFZeO5"
      }
    },
    {
      "cell_type": "code",
      "source": [
        "from sklearn.scaling import StandardScaler, MinMaxScaler, RobustScaler\n",
        "ss = StandardScaler()\n",
        "ss.fit(xTrain)\n",
        "ss.transform(xTrain)\n",
        "ss.transform(xTest)"
      ],
      "metadata": {
        "id": "69gRzjHLZlHq"
      },
      "execution_count": null,
      "outputs": []
    },
    {
      "cell_type": "markdown",
      "source": [
        "## Model Training"
      ],
      "metadata": {
        "id": "CvcHVp1kZ-qf"
      }
    },
    {
      "cell_type": "code",
      "source": [
        "from sklearn.linear_model import Model\n",
        "model = Model()\n",
        "model.fit(xTrain,yTrain)"
      ],
      "metadata": {
        "id": "9LBOc0IdaPUC"
      },
      "execution_count": null,
      "outputs": []
    },
    {
      "cell_type": "markdown",
      "source": [
        "## Model validation"
      ],
      "metadata": {
        "id": "ymEr-WpOag4c"
      }
    },
    {
      "cell_type": "code",
      "source": [
        "y_pred = model.predict(xTest)"
      ],
      "metadata": {
        "id": "dSa88ZfQatP7"
      },
      "execution_count": null,
      "outputs": []
    },
    {
      "cell_type": "code",
      "source": [
        "from sklearn.metrics import r2_score,accuracy,classification_matrix\n",
        "score(y_pred,yTest)"
      ],
      "metadata": {
        "id": "75ak0QIJaiUE"
      },
      "execution_count": null,
      "outputs": []
    },
    {
      "cell_type": "markdown",
      "source": [
        "## Visualisation"
      ],
      "metadata": {
        "id": "v3MiOF_vbJeo"
      }
    },
    {
      "cell_type": "code",
      "source": [
        "# lin reg - line of best fit through data"
      ],
      "metadata": {
        "id": "Rf7pvxi9bLtb"
      },
      "execution_count": null,
      "outputs": []
    },
    {
      "cell_type": "code",
      "source": [
        "# log reg - roc-auc curve"
      ],
      "metadata": {
        "id": "2zEk14KXbcW9"
      },
      "execution_count": null,
      "outputs": []
    },
    {
      "cell_type": "code",
      "source": [
        "# clustering - colour code data"
      ],
      "metadata": {
        "id": "4PbY7n7ubVgZ"
      },
      "execution_count": null,
      "outputs": []
    }
  ]
}