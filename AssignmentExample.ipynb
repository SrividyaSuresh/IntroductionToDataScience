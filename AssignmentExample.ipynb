{
  "nbformat": 4,
  "nbformat_minor": 0,
  "metadata": {
    "colab": {
      "name": "AssignmentExample.ipynb",
      "provenance": [],
      "collapsed_sections": [],
      "include_colab_link": true
    },
    "kernelspec": {
      "display_name": "Python 3",
      "name": "python3"
    },
    "language_info": {
      "name": "python"
    }
  },
  "cells": [
    {
      "cell_type": "markdown",
      "metadata": {
        "id": "view-in-github",
        "colab_type": "text"
      },
      "source": [
        "<a href=\"https://colab.research.google.com/github/SrividyaSuresh/IntroductionToDataScience/blob/main/AssignmentExample.ipynb\" target=\"_parent\"><img src=\"https://colab.research.google.com/assets/colab-badge.svg\" alt=\"Open In Colab\"/></a>"
      ]
    },
    {
      "cell_type": "code",
      "metadata": {
        "id": "a4jaIaoPDdna"
      },
      "source": [
        "import numpy as np\n",
        "import pandas as pd\n",
        "import matplotlib.pyplot as plt\n",
        "import seaborn as sns"
      ],
      "execution_count": 2,
      "outputs": []
    },
    {
      "cell_type": "code",
      "metadata": {
        "id": "om9UbB8cD6YB"
      },
      "source": [
        "df = pd.read_csv(\"Assignment1.csv\")"
      ],
      "execution_count": 34,
      "outputs": []
    },
    {
      "cell_type": "code",
      "metadata": {
        "colab": {
          "base_uri": "https://localhost:8080/",
          "height": 681
        },
        "id": "thjlejvcEEO-",
        "outputId": "17d45c24-7f45-4476-d645-1d79053791da"
      },
      "source": [
        "df.head()"
      ],
      "execution_count": 4,
      "outputs": [
        {
          "output_type": "execute_result",
          "data": {
            "text/plain": [
              "  Age Group  Gender     Occupation            Income                Frequency  \\\n",
              "0   31 - 40  Female        Service          35 Lakh +        Every Few Months   \n",
              "1   31 - 40  Female  Self employed    7 Lakh - 9 Lakh  Special Occasions only   \n",
              "2   26 - 30    Male        Service  11 Lakh - 13 Lakh  Special Occasions only   \n",
              "3   26 - 30  Female         Others  11 Lakh - 13 Lakh  Special Occasions only   \n",
              "4   26 - 30  Female        Service          35 Lakh +  Special Occasions only   \n",
              "\n",
              "      Purpose                                              Metal  \\\n",
              "0  Investment                                               GOLD   \n",
              "1    Personal                                               GOLD   \n",
              "2  Investment                                               GOLD   \n",
              "3    Personal  GOLD, SILVER Or STERLING SILVER, IMITATION JEW...   \n",
              "4    Personal                                               GOLD   \n",
              "\n",
              "  Gifting_frequency Gifting_budget                  Gifting_choice  ...  \\\n",
              "0       Very Rarely    4000 - 5000                       Gift card  ...   \n",
              "1         Sometimes    4000 - 5000  Decorative items or showpieces  ...   \n",
              "2             Never    1000 - 2000                         Flowers  ...   \n",
              "3       Very Rarely    2000 - 3000                       Gift card  ...   \n",
              "4       Quite often     Above 5000                         Jewelry  ...   \n",
              "\n",
              "  Custom_made Cost Weight_light Weight_heavy     Shopping_how  \\\n",
              "0           2    2          NaN            1  Go out Shopping   \n",
              "1           3    3            1            5  Go out Shopping   \n",
              "2           6    1            3            6  Go out Shopping   \n",
              "3         NaN    3            2            4  Go out Shopping   \n",
              "4           1    4            1            4  Go out Shopping   \n",
              "\n",
              "    Shopping_brand                                              Style  \\\n",
              "0  MALABAR JEWELER  Metal(gold ,silver, platinum) with gems jewelr...   \n",
              "1           Tanisq                Plain Gold /Silver/Platinum jewelry   \n",
              "2     Local vendor                Plain Gold /Silver/Platinum jewelry   \n",
              "3              NaN  Plain Gold /Silver/Platinum jewelry, Metal(gol...   \n",
              "4  MALABAR JEWELER                Plain Gold /Silver/Platinum jewelry   \n",
              "\n",
              "                                               Place Rapaport_report   Blog  \n",
              "0  Metropolitan Cities( like Bengaluru, Mumbai, D...             Yes  Maybe  \n",
              "1  Metropolitan Cities( like Bengaluru, Mumbai, D...             Yes  Maybe  \n",
              "2  Metropolitan Cities( like Bengaluru, Mumbai, D...              No     No  \n",
              "3  Metropolitan Cities( like Bengaluru, Mumbai, D...              No    Yes  \n",
              "4  Metropolitan Cities( like Bengaluru, Mumbai, D...              No    Yes  \n",
              "\n",
              "[5 rows x 22 columns]"
            ],
            "text/html": [
              "\n",
              "  <div id=\"df-ea28dd7e-8db4-4065-b897-ae90195c67c5\">\n",
              "    <div class=\"colab-df-container\">\n",
              "      <div>\n",
              "<style scoped>\n",
              "    .dataframe tbody tr th:only-of-type {\n",
              "        vertical-align: middle;\n",
              "    }\n",
              "\n",
              "    .dataframe tbody tr th {\n",
              "        vertical-align: top;\n",
              "    }\n",
              "\n",
              "    .dataframe thead th {\n",
              "        text-align: right;\n",
              "    }\n",
              "</style>\n",
              "<table border=\"1\" class=\"dataframe\">\n",
              "  <thead>\n",
              "    <tr style=\"text-align: right;\">\n",
              "      <th></th>\n",
              "      <th>Age Group</th>\n",
              "      <th>Gender</th>\n",
              "      <th>Occupation</th>\n",
              "      <th>Income</th>\n",
              "      <th>Frequency</th>\n",
              "      <th>Purpose</th>\n",
              "      <th>Metal</th>\n",
              "      <th>Gifting_frequency</th>\n",
              "      <th>Gifting_budget</th>\n",
              "      <th>Gifting_choice</th>\n",
              "      <th>...</th>\n",
              "      <th>Custom_made</th>\n",
              "      <th>Cost</th>\n",
              "      <th>Weight_light</th>\n",
              "      <th>Weight_heavy</th>\n",
              "      <th>Shopping_how</th>\n",
              "      <th>Shopping_brand</th>\n",
              "      <th>Style</th>\n",
              "      <th>Place</th>\n",
              "      <th>Rapaport_report</th>\n",
              "      <th>Blog</th>\n",
              "    </tr>\n",
              "  </thead>\n",
              "  <tbody>\n",
              "    <tr>\n",
              "      <th>0</th>\n",
              "      <td>31 - 40</td>\n",
              "      <td>Female</td>\n",
              "      <td>Service</td>\n",
              "      <td>35 Lakh +</td>\n",
              "      <td>Every Few Months</td>\n",
              "      <td>Investment</td>\n",
              "      <td>GOLD</td>\n",
              "      <td>Very Rarely</td>\n",
              "      <td>4000 - 5000</td>\n",
              "      <td>Gift card</td>\n",
              "      <td>...</td>\n",
              "      <td>2</td>\n",
              "      <td>2</td>\n",
              "      <td>NaN</td>\n",
              "      <td>1</td>\n",
              "      <td>Go out Shopping</td>\n",
              "      <td>MALABAR JEWELER</td>\n",
              "      <td>Metal(gold ,silver, platinum) with gems jewelr...</td>\n",
              "      <td>Metropolitan Cities( like Bengaluru, Mumbai, D...</td>\n",
              "      <td>Yes</td>\n",
              "      <td>Maybe</td>\n",
              "    </tr>\n",
              "    <tr>\n",
              "      <th>1</th>\n",
              "      <td>31 - 40</td>\n",
              "      <td>Female</td>\n",
              "      <td>Self employed</td>\n",
              "      <td>7 Lakh - 9 Lakh</td>\n",
              "      <td>Special Occasions only</td>\n",
              "      <td>Personal</td>\n",
              "      <td>GOLD</td>\n",
              "      <td>Sometimes</td>\n",
              "      <td>4000 - 5000</td>\n",
              "      <td>Decorative items or showpieces</td>\n",
              "      <td>...</td>\n",
              "      <td>3</td>\n",
              "      <td>3</td>\n",
              "      <td>1</td>\n",
              "      <td>5</td>\n",
              "      <td>Go out Shopping</td>\n",
              "      <td>Tanisq</td>\n",
              "      <td>Plain Gold /Silver/Platinum jewelry</td>\n",
              "      <td>Metropolitan Cities( like Bengaluru, Mumbai, D...</td>\n",
              "      <td>Yes</td>\n",
              "      <td>Maybe</td>\n",
              "    </tr>\n",
              "    <tr>\n",
              "      <th>2</th>\n",
              "      <td>26 - 30</td>\n",
              "      <td>Male</td>\n",
              "      <td>Service</td>\n",
              "      <td>11 Lakh - 13 Lakh</td>\n",
              "      <td>Special Occasions only</td>\n",
              "      <td>Investment</td>\n",
              "      <td>GOLD</td>\n",
              "      <td>Never</td>\n",
              "      <td>1000 - 2000</td>\n",
              "      <td>Flowers</td>\n",
              "      <td>...</td>\n",
              "      <td>6</td>\n",
              "      <td>1</td>\n",
              "      <td>3</td>\n",
              "      <td>6</td>\n",
              "      <td>Go out Shopping</td>\n",
              "      <td>Local vendor</td>\n",
              "      <td>Plain Gold /Silver/Platinum jewelry</td>\n",
              "      <td>Metropolitan Cities( like Bengaluru, Mumbai, D...</td>\n",
              "      <td>No</td>\n",
              "      <td>No</td>\n",
              "    </tr>\n",
              "    <tr>\n",
              "      <th>3</th>\n",
              "      <td>26 - 30</td>\n",
              "      <td>Female</td>\n",
              "      <td>Others</td>\n",
              "      <td>11 Lakh - 13 Lakh</td>\n",
              "      <td>Special Occasions only</td>\n",
              "      <td>Personal</td>\n",
              "      <td>GOLD, SILVER Or STERLING SILVER, IMITATION JEW...</td>\n",
              "      <td>Very Rarely</td>\n",
              "      <td>2000 - 3000</td>\n",
              "      <td>Gift card</td>\n",
              "      <td>...</td>\n",
              "      <td>NaN</td>\n",
              "      <td>3</td>\n",
              "      <td>2</td>\n",
              "      <td>4</td>\n",
              "      <td>Go out Shopping</td>\n",
              "      <td>NaN</td>\n",
              "      <td>Plain Gold /Silver/Platinum jewelry, Metal(gol...</td>\n",
              "      <td>Metropolitan Cities( like Bengaluru, Mumbai, D...</td>\n",
              "      <td>No</td>\n",
              "      <td>Yes</td>\n",
              "    </tr>\n",
              "    <tr>\n",
              "      <th>4</th>\n",
              "      <td>26 - 30</td>\n",
              "      <td>Female</td>\n",
              "      <td>Service</td>\n",
              "      <td>35 Lakh +</td>\n",
              "      <td>Special Occasions only</td>\n",
              "      <td>Personal</td>\n",
              "      <td>GOLD</td>\n",
              "      <td>Quite often</td>\n",
              "      <td>Above 5000</td>\n",
              "      <td>Jewelry</td>\n",
              "      <td>...</td>\n",
              "      <td>1</td>\n",
              "      <td>4</td>\n",
              "      <td>1</td>\n",
              "      <td>4</td>\n",
              "      <td>Go out Shopping</td>\n",
              "      <td>MALABAR JEWELER</td>\n",
              "      <td>Plain Gold /Silver/Platinum jewelry</td>\n",
              "      <td>Metropolitan Cities( like Bengaluru, Mumbai, D...</td>\n",
              "      <td>No</td>\n",
              "      <td>Yes</td>\n",
              "    </tr>\n",
              "  </tbody>\n",
              "</table>\n",
              "<p>5 rows × 22 columns</p>\n",
              "</div>\n",
              "      <button class=\"colab-df-convert\" onclick=\"convertToInteractive('df-ea28dd7e-8db4-4065-b897-ae90195c67c5')\"\n",
              "              title=\"Convert this dataframe to an interactive table.\"\n",
              "              style=\"display:none;\">\n",
              "        \n",
              "  <svg xmlns=\"http://www.w3.org/2000/svg\" height=\"24px\"viewBox=\"0 0 24 24\"\n",
              "       width=\"24px\">\n",
              "    <path d=\"M0 0h24v24H0V0z\" fill=\"none\"/>\n",
              "    <path d=\"M18.56 5.44l.94 2.06.94-2.06 2.06-.94-2.06-.94-.94-2.06-.94 2.06-2.06.94zm-11 1L8.5 8.5l.94-2.06 2.06-.94-2.06-.94L8.5 2.5l-.94 2.06-2.06.94zm10 10l.94 2.06.94-2.06 2.06-.94-2.06-.94-.94-2.06-.94 2.06-2.06.94z\"/><path d=\"M17.41 7.96l-1.37-1.37c-.4-.4-.92-.59-1.43-.59-.52 0-1.04.2-1.43.59L10.3 9.45l-7.72 7.72c-.78.78-.78 2.05 0 2.83L4 21.41c.39.39.9.59 1.41.59.51 0 1.02-.2 1.41-.59l7.78-7.78 2.81-2.81c.8-.78.8-2.07 0-2.86zM5.41 20L4 18.59l7.72-7.72 1.47 1.35L5.41 20z\"/>\n",
              "  </svg>\n",
              "      </button>\n",
              "      \n",
              "  <style>\n",
              "    .colab-df-container {\n",
              "      display:flex;\n",
              "      flex-wrap:wrap;\n",
              "      gap: 12px;\n",
              "    }\n",
              "\n",
              "    .colab-df-convert {\n",
              "      background-color: #E8F0FE;\n",
              "      border: none;\n",
              "      border-radius: 50%;\n",
              "      cursor: pointer;\n",
              "      display: none;\n",
              "      fill: #1967D2;\n",
              "      height: 32px;\n",
              "      padding: 0 0 0 0;\n",
              "      width: 32px;\n",
              "    }\n",
              "\n",
              "    .colab-df-convert:hover {\n",
              "      background-color: #E2EBFA;\n",
              "      box-shadow: 0px 1px 2px rgba(60, 64, 67, 0.3), 0px 1px 3px 1px rgba(60, 64, 67, 0.15);\n",
              "      fill: #174EA6;\n",
              "    }\n",
              "\n",
              "    [theme=dark] .colab-df-convert {\n",
              "      background-color: #3B4455;\n",
              "      fill: #D2E3FC;\n",
              "    }\n",
              "\n",
              "    [theme=dark] .colab-df-convert:hover {\n",
              "      background-color: #434B5C;\n",
              "      box-shadow: 0px 1px 3px 1px rgba(0, 0, 0, 0.15);\n",
              "      filter: drop-shadow(0px 1px 2px rgba(0, 0, 0, 0.3));\n",
              "      fill: #FFFFFF;\n",
              "    }\n",
              "  </style>\n",
              "\n",
              "      <script>\n",
              "        const buttonEl =\n",
              "          document.querySelector('#df-ea28dd7e-8db4-4065-b897-ae90195c67c5 button.colab-df-convert');\n",
              "        buttonEl.style.display =\n",
              "          google.colab.kernel.accessAllowed ? 'block' : 'none';\n",
              "\n",
              "        async function convertToInteractive(key) {\n",
              "          const element = document.querySelector('#df-ea28dd7e-8db4-4065-b897-ae90195c67c5');\n",
              "          const dataTable =\n",
              "            await google.colab.kernel.invokeFunction('convertToInteractive',\n",
              "                                                     [key], {});\n",
              "          if (!dataTable) return;\n",
              "\n",
              "          const docLinkHtml = 'Like what you see? Visit the ' +\n",
              "            '<a target=\"_blank\" href=https://colab.research.google.com/notebooks/data_table.ipynb>data table notebook</a>'\n",
              "            + ' to learn more about interactive tables.';\n",
              "          element.innerHTML = '';\n",
              "          dataTable['output_type'] = 'display_data';\n",
              "          await google.colab.output.renderOutput(dataTable, element);\n",
              "          const docLink = document.createElement('div');\n",
              "          docLink.innerHTML = docLinkHtml;\n",
              "          element.appendChild(docLink);\n",
              "        }\n",
              "      </script>\n",
              "    </div>\n",
              "  </div>\n",
              "  "
            ]
          },
          "metadata": {},
          "execution_count": 4
        }
      ]
    },
    {
      "cell_type": "code",
      "metadata": {
        "colab": {
          "base_uri": "https://localhost:8080/"
        },
        "id": "GJhZXwaQEFoE",
        "outputId": "cf1153a8-d39d-4be3-c039-7ec96d32bec2"
      },
      "source": [
        "df.shape"
      ],
      "execution_count": 5,
      "outputs": [
        {
          "output_type": "execute_result",
          "data": {
            "text/plain": [
              "(79, 22)"
            ]
          },
          "metadata": {},
          "execution_count": 5
        }
      ]
    },
    {
      "cell_type": "code",
      "metadata": {
        "colab": {
          "base_uri": "https://localhost:8080/"
        },
        "id": "4pFXcm23GmFf",
        "outputId": "76895752-dc34-4403-ff78-63cb699f86e9"
      },
      "source": [
        "df.info()"
      ],
      "execution_count": 6,
      "outputs": [
        {
          "output_type": "stream",
          "name": "stdout",
          "text": [
            "<class 'pandas.core.frame.DataFrame'>\n",
            "RangeIndex: 79 entries, 0 to 78\n",
            "Data columns (total 22 columns):\n",
            " #   Column             Non-Null Count  Dtype \n",
            "---  ------             --------------  ----- \n",
            " 0   Age Group          79 non-null     object\n",
            " 1   Gender             79 non-null     object\n",
            " 2   Occupation         79 non-null     object\n",
            " 3   Income             51 non-null     object\n",
            " 4   Frequency          79 non-null     object\n",
            " 5   Purpose            78 non-null     object\n",
            " 6   Metal              79 non-null     object\n",
            " 7   Gifting_frequency  79 non-null     object\n",
            " 8   Gifting_budget     79 non-null     object\n",
            " 9   Gifting_choice     77 non-null     object\n",
            " 10  Quality            73 non-null     object\n",
            " 11  New_design         74 non-null     object\n",
            " 12  Custom_made        69 non-null     object\n",
            " 13  Cost               73 non-null     object\n",
            " 14  Weight_light       76 non-null     object\n",
            " 15  Weight_heavy       54 non-null     object\n",
            " 16  Shopping_how       79 non-null     object\n",
            " 17  Shopping_brand     70 non-null     object\n",
            " 18  Style              79 non-null     object\n",
            " 19  Place              79 non-null     object\n",
            " 20  Rapaport_report    75 non-null     object\n",
            " 21  Blog               79 non-null     object\n",
            "dtypes: object(22)\n",
            "memory usage: 13.7+ KB\n"
          ]
        }
      ]
    },
    {
      "cell_type": "code",
      "source": [
        "df.isnull().sum()"
      ],
      "metadata": {
        "colab": {
          "base_uri": "https://localhost:8080/"
        },
        "id": "gAncpY0PRItS",
        "outputId": "72a6e5b2-a4c1-427b-a945-9acdbf7f00b6"
      },
      "execution_count": 7,
      "outputs": [
        {
          "output_type": "execute_result",
          "data": {
            "text/plain": [
              "Age Group             0\n",
              "Gender                0\n",
              "Occupation            0\n",
              "Income               28\n",
              "Frequency             0\n",
              "Purpose               1\n",
              "Metal                 0\n",
              "Gifting_frequency     0\n",
              "Gifting_budget        0\n",
              "Gifting_choice        2\n",
              "Quality               6\n",
              "New_design            5\n",
              "Custom_made          10\n",
              "Cost                  6\n",
              "Weight_light          3\n",
              "Weight_heavy         25\n",
              "Shopping_how          0\n",
              "Shopping_brand        9\n",
              "Style                 0\n",
              "Place                 0\n",
              "Rapaport_report       4\n",
              "Blog                  0\n",
              "dtype: int64"
            ]
          },
          "metadata": {},
          "execution_count": 7
        }
      ]
    },
    {
      "cell_type": "code",
      "metadata": {
        "id": "82BU3i88MAn7"
      },
      "source": [
        "# df['Cost'].value_counts()"
      ],
      "execution_count": null,
      "outputs": []
    },
    {
      "cell_type": "code",
      "metadata": {
        "colab": {
          "base_uri": "https://localhost:8080/"
        },
        "id": "oqKqDrpPDAPN",
        "outputId": "8df3d913-28a0-44df-f85b-48824d287514"
      },
      "source": [
        "df['Cost'].isnull().sum()"
      ],
      "execution_count": 8,
      "outputs": [
        {
          "output_type": "execute_result",
          "data": {
            "text/plain": [
              "6"
            ]
          },
          "metadata": {},
          "execution_count": 8
        }
      ]
    },
    {
      "cell_type": "code",
      "metadata": {
        "colab": {
          "base_uri": "https://localhost:8080/"
        },
        "id": "0xgyzkPQOwOg",
        "outputId": "40c247a8-52c7-45b9-b6e5-a134f267dca8"
      },
      "source": [
        "df['Cost'].value_counts()\n",
        "# df['Cost'].describe()"
      ],
      "execution_count": 9,
      "outputs": [
        {
          "output_type": "execute_result",
          "data": {
            "text/plain": [
              "1             23\n",
              "3             17\n",
              "2             13\n",
              "4             10\n",
              "5              3\n",
              "6              2\n",
              "1, 6           2\n",
              "1, 2, 3, 4     1\n",
              "3, 6           1\n",
              "1, 2           1\n",
              "Name: Cost, dtype: int64"
            ]
          },
          "metadata": {},
          "execution_count": 9
        }
      ]
    },
    {
      "cell_type": "code",
      "source": [
        "df['Cost'][0]"
      ],
      "metadata": {
        "colab": {
          "base_uri": "https://localhost:8080/",
          "height": 35
        },
        "id": "cRQscpccXbwW",
        "outputId": "a9ce4350-2ca8-4d1e-e0b2-bdcb15b9b434"
      },
      "execution_count": 20,
      "outputs": [
        {
          "output_type": "execute_result",
          "data": {
            "text/plain": [
              "'2'"
            ],
            "application/vnd.google.colaboratory.intrinsic+json": {
              "type": "string"
            }
          },
          "metadata": {},
          "execution_count": 20
        }
      ]
    },
    {
      "cell_type": "code",
      "source": [
        "df = df[(df['Cost']=='1') | (df['Cost']=='2') | (df['Cost']=='3') | (df['Cost']=='4') | (df['Cost']=='5') | (df['Cost']=='6') | (df['Cost'].isnull())]\n",
        "# df[1<=df['Cost']<=6].shape()"
      ],
      "metadata": {
        "id": "_9_UVLh9SO5J"
      },
      "execution_count": 35,
      "outputs": []
    },
    {
      "cell_type": "code",
      "source": [
        "df.shape"
      ],
      "metadata": {
        "colab": {
          "base_uri": "https://localhost:8080/"
        },
        "id": "eMJr1RbNYOOY",
        "outputId": "c07a6e87-627e-4dbb-9004-648cd77b0daf"
      },
      "execution_count": 40,
      "outputs": [
        {
          "output_type": "execute_result",
          "data": {
            "text/plain": [
              "(74, 22)"
            ]
          },
          "metadata": {},
          "execution_count": 40
        }
      ]
    },
    {
      "cell_type": "code",
      "metadata": {
        "colab": {
          "base_uri": "https://localhost:8080/"
        },
        "id": "7vClFE5nDGzY",
        "outputId": "e23332b2-558b-4355-b6fd-21af419a6751"
      },
      "source": [
        "df['Cost'].describe()"
      ],
      "execution_count": 36,
      "outputs": [
        {
          "output_type": "execute_result",
          "data": {
            "text/plain": [
              "count     68\n",
              "unique     6\n",
              "top        1\n",
              "freq      23\n",
              "Name: Cost, dtype: object"
            ]
          },
          "metadata": {},
          "execution_count": 36
        }
      ]
    },
    {
      "cell_type": "code",
      "source": [
        "df['Cost'].mode()[0]"
      ],
      "metadata": {
        "colab": {
          "base_uri": "https://localhost:8080/",
          "height": 35
        },
        "id": "qg99WyFGcscu",
        "outputId": "09694bf5-ee88-42d6-f3ad-8df2928d3592"
      },
      "execution_count": 55,
      "outputs": [
        {
          "output_type": "execute_result",
          "data": {
            "text/plain": [
              "'1'"
            ],
            "application/vnd.google.colaboratory.intrinsic+json": {
              "type": "string"
            }
          },
          "metadata": {},
          "execution_count": 55
        }
      ]
    },
    {
      "cell_type": "code",
      "metadata": {
        "id": "NukGHhtoL7q-"
      },
      "source": [
        "df['Cost'].fillna(df['Cost'].mode()[0], inplace=True)"
      ],
      "execution_count": 56,
      "outputs": []
    },
    {
      "cell_type": "code",
      "source": [
        "df['Cost'].value_counts()"
      ],
      "metadata": {
        "colab": {
          "base_uri": "https://localhost:8080/"
        },
        "id": "D4YRXaa6aBnO",
        "outputId": "31fe5344-68ca-4226-b84c-02d8800d85ff"
      },
      "execution_count": 38,
      "outputs": [
        {
          "output_type": "execute_result",
          "data": {
            "text/plain": [
              "1    23\n",
              "3    17\n",
              "2    13\n",
              "4    10\n",
              "5     3\n",
              "6     2\n",
              "Name: Cost, dtype: int64"
            ]
          },
          "metadata": {},
          "execution_count": 38
        }
      ]
    },
    {
      "cell_type": "code",
      "metadata": {
        "colab": {
          "base_uri": "https://localhost:8080/"
        },
        "id": "g-3hveDAKltI",
        "outputId": "5c82a74d-4fd7-4f43-be48-b907ada44027"
      },
      "source": [
        "df['Gender'].value_counts()"
      ],
      "execution_count": 41,
      "outputs": [
        {
          "output_type": "execute_result",
          "data": {
            "text/plain": [
              "Female               65\n",
              "Male                  8\n",
              "Prefer not to say     1\n",
              "Name: Gender, dtype: int64"
            ]
          },
          "metadata": {},
          "execution_count": 41
        }
      ]
    },
    {
      "cell_type": "code",
      "source": [
        "df = df[df['Gender']!='Prefer not to say']\n",
        "df.shape"
      ],
      "metadata": {
        "colab": {
          "base_uri": "https://localhost:8080/"
        },
        "id": "7do9SFI6adkx",
        "outputId": "979e334f-da04-498f-bb2a-ac3952f06383"
      },
      "execution_count": 42,
      "outputs": [
        {
          "output_type": "execute_result",
          "data": {
            "text/plain": [
              "(73, 22)"
            ]
          },
          "metadata": {},
          "execution_count": 42
        }
      ]
    },
    {
      "cell_type": "code",
      "metadata": {
        "colab": {
          "base_uri": "https://localhost:8080/",
          "height": 296
        },
        "id": "bKgyR8MFGofs",
        "outputId": "8bb1b43e-b232-454e-d0e8-ac2c22535afe"
      },
      "source": [
        "# plt.hist(df['Gender'])\n",
        "sns.histplot(df['Gender']) # palettes"
      ],
      "execution_count": 43,
      "outputs": [
        {
          "output_type": "execute_result",
          "data": {
            "text/plain": [
              "<matplotlib.axes._subplots.AxesSubplot at 0x7f421d074810>"
            ]
          },
          "metadata": {},
          "execution_count": 43
        },
        {
          "output_type": "display_data",
          "data": {
            "text/plain": [
              "<Figure size 432x288 with 1 Axes>"
            ],
            "image/png": "[encoded data removed]"
          },
          "metadata": {
            "needs_background": "light"
          }
        }
      ]
    },
    {
      "cell_type": "code",
      "metadata": {
        "colab": {
          "base_uri": "https://localhost:8080/"
        },
        "id": "V6VPEKvgDr3l",
        "outputId": "b6959006-d81a-4d48-93ad-7f68330b97de"
      },
      "source": [
        "df['Gender'].value_counts().index"
      ],
      "execution_count": 44,
      "outputs": [
        {
          "output_type": "execute_result",
          "data": {
            "text/plain": [
              "Index(['Female', 'Male'], dtype='object')"
            ]
          },
          "metadata": {},
          "execution_count": 44
        }
      ]
    },
    {
      "cell_type": "code",
      "source": [
        "df['Gender'].value_counts()"
      ],
      "metadata": {
        "colab": {
          "base_uri": "https://localhost:8080/"
        },
        "id": "4sy3dvQIbEu3",
        "outputId": "e5744d1f-1729-4100-eeff-e91ed986f102"
      },
      "execution_count": 45,
      "outputs": [
        {
          "output_type": "execute_result",
          "data": {
            "text/plain": [
              "Female    65\n",
              "Male       8\n",
              "Name: Gender, dtype: int64"
            ]
          },
          "metadata": {},
          "execution_count": 45
        }
      ]
    },
    {
      "cell_type": "code",
      "metadata": {
        "colab": {
          "base_uri": "https://localhost:8080/",
          "height": 248
        },
        "id": "JoqAjlmszGTJ",
        "outputId": "7f6e8b8e-ad09-4dd0-fe58-7f3229c89567"
      },
      "source": [
        "plt.pie(df['Gender'].value_counts(), labels=df['Gender'].value_counts().index, shadow=True, startangle = 120, explode=[0,0.1])\n",
        "plt.show()"
      ],
      "execution_count": 50,
      "outputs": [
        {
          "output_type": "display_data",
          "data": {
            "text/plain": [
              "<Figure size 432x288 with 1 Axes>"
            ],
            "image/png": "[encoded data removed]"
          },
          "metadata": {}
        }
      ]
    },
    {
      "cell_type": "code",
      "source": [
        "df['Cost'].isnull().sum()"
      ],
      "metadata": {
        "colab": {
          "base_uri": "https://localhost:8080/"
        },
        "id": "3BTpKsuZckiy",
        "outputId": "938c19ef-e2e9-4cfa-cf13-7de24051cc77"
      },
      "execution_count": 57,
      "outputs": [
        {
          "output_type": "execute_result",
          "data": {
            "text/plain": [
              "0"
            ]
          },
          "metadata": {},
          "execution_count": 57
        }
      ]
    },
    {
      "cell_type": "code",
      "source": [
        "df['Cost'] = df['Cost'].astype('int')"
      ],
      "metadata": {
        "id": "5AypFHzmcfPV"
      },
      "execution_count": 60,
      "outputs": []
    },
    {
      "cell_type": "code",
      "metadata": {
        "colab": {
          "base_uri": "https://localhost:8080/",
          "height": 354
        },
        "id": "uINjKBuCLbbB",
        "outputId": "b2380464-2bb0-415b-b41d-5d54f4acc7c2"
      },
      "source": [
        "sns.barplot(df['Gender'], df['Cost'])"
      ],
      "execution_count": 63,
      "outputs": [
        {
          "output_type": "stream",
          "name": "stderr",
          "text": [
            "/usr/local/lib/python3.7/dist-packages/seaborn/_decorators.py:43: FutureWarning: Pass the following variables as keyword args: x, y. From version 0.12, the only valid positional argument will be `data`, and passing other arguments without an explicit keyword will result in an error or misinterpretation.\n",
            "  FutureWarning\n"
          ]
        },
        {
          "output_type": "execute_result",
          "data": {
            "text/plain": [
              "<matplotlib.axes._subplots.AxesSubplot at 0x7f421a530c10>"
            ]
          },
          "metadata": {},
          "execution_count": 63
        },
        {
          "output_type": "display_data",
          "data": {
            "text/plain": [
              "<Figure size 432x288 with 1 Axes>"
            ],
            "image/png": "[encoded data removed]"
          },
          "metadata": {
            "needs_background": "light"
          }
        }
      ]
    },
    {
      "cell_type": "code",
      "source": [
        ""
      ],
      "metadata": {
        "id": "98NZ6tHJdi2h"
      },
      "execution_count": null,
      "outputs": []
    },
    {
      "cell_type": "code",
      "metadata": {
        "colab": {
          "base_uri": "https://localhost:8080/"
        },
        "id": "v5Shq87FPTej",
        "outputId": "8cb02e69-92ee-4a0d-c6ab-5b80a5786053"
      },
      "source": [
        "df['Purpose'].value_counts()"
      ],
      "execution_count": 64,
      "outputs": [
        {
          "output_type": "execute_result",
          "data": {
            "text/plain": [
              "Personal                                             56\n",
              "Investment                                            9\n",
              "Gifting                                               5\n",
              "Never bought                                          1\n",
              "Gifting , personal, for some programs , functions     1\n",
              "Name: Purpose, dtype: int64"
            ]
          },
          "metadata": {},
          "execution_count": 64
        }
      ]
    },
    {
      "cell_type": "code",
      "metadata": {
        "colab": {
          "base_uri": "https://localhost:8080/",
          "height": 296
        },
        "id": "wJOoR_joFR7C",
        "outputId": "2c30c71b-07df-4eb4-effa-30c296b6bf13"
      },
      "source": [
        "sns.histplot(df['Purpose'])"
      ],
      "execution_count": 65,
      "outputs": [
        {
          "output_type": "execute_result",
          "data": {
            "text/plain": [
              "<matplotlib.axes._subplots.AxesSubplot at 0x7f421a49b2d0>"
            ]
          },
          "metadata": {},
          "execution_count": 65
        },
        {
          "output_type": "display_data",
          "data": {
            "text/plain": [
              "<Figure size 432x288 with 1 Axes>"
            ],
            "image/png": "[encoded data removed]"
          },
          "metadata": {
            "needs_background": "light"
          }
        }
      ]
    },
    {
      "cell_type": "code",
      "metadata": {
        "id": "21LggpRHQeox"
      },
      "source": [
        "df_female = df[df['Gender']=='Female']"
      ],
      "execution_count": 66,
      "outputs": []
    },
    {
      "cell_type": "code",
      "metadata": {
        "colab": {
          "base_uri": "https://localhost:8080/"
        },
        "id": "74oQJPoNF7qW",
        "outputId": "fcd0e435-a8da-4933-e4e5-9e23c30b61c0"
      },
      "source": [
        "df_female['Gender'].value_counts()"
      ],
      "execution_count": 67,
      "outputs": [
        {
          "output_type": "execute_result",
          "data": {
            "text/plain": [
              "Female    65\n",
              "Name: Gender, dtype: int64"
            ]
          },
          "metadata": {},
          "execution_count": 67
        }
      ]
    },
    {
      "cell_type": "code",
      "metadata": {
        "colab": {
          "base_uri": "https://localhost:8080/",
          "height": 296
        },
        "id": "s11KobK1QLnf",
        "outputId": "681c6a78-15fc-4591-9be5-118d0e6f81cc"
      },
      "source": [
        "sns.histplot(df_female['Purpose'], color='pink')"
      ],
      "execution_count": 68,
      "outputs": [
        {
          "output_type": "execute_result",
          "data": {
            "text/plain": [
              "<matplotlib.axes._subplots.AxesSubplot at 0x7f421a3fb410>"
            ]
          },
          "metadata": {},
          "execution_count": 68
        },
        {
          "output_type": "display_data",
          "data": {
            "text/plain": [
              "<Figure size 432x288 with 1 Axes>"
            ],
            "image/png": "[encoded data removed]"
          },
          "metadata": {
            "needs_background": "light"
          }
        }
      ]
    },
    {
      "cell_type": "code",
      "metadata": {
        "colab": {
          "base_uri": "https://localhost:8080/",
          "height": 296
        },
        "id": "uTi9zKp4QwpS",
        "outputId": "cde30160-665a-4f72-8c06-9c1bd1d11ec5"
      },
      "source": [
        "df_male = df[df['Gender']!='Female']\n",
        "sns.histplot(df_male['Purpose'])"
      ],
      "execution_count": 69,
      "outputs": [
        {
          "output_type": "execute_result",
          "data": {
            "text/plain": [
              "<matplotlib.axes._subplots.AxesSubplot at 0x7f421a341950>"
            ]
          },
          "metadata": {},
          "execution_count": 69
        },
        {
          "output_type": "display_data",
          "data": {
            "text/plain": [
              "<Figure size 432x288 with 1 Axes>"
            ],
            "image/png": "[encoded data removed]"
          },
          "metadata": {
            "needs_background": "light"
          }
        }
      ]
    },
    {
      "cell_type": "code",
      "metadata": {
        "id": "K4OPuZZrGtZ9",
        "colab": {
          "base_uri": "https://localhost:8080/",
          "height": 502
        },
        "outputId": "70093ec7-dd82-4020-f048-45b377c64277"
      },
      "source": [
        "df['Income'].value_counts()"
      ],
      "execution_count": 70,
      "outputs": [
        {
          "output_type": "error",
          "ename": "KeyError",
          "evalue": "ignored",
          "traceback": [
            "\u001b[0;31m---------------------------------------------------------------------------\u001b[0m",
            "\u001b[0;31mKeyError\u001b[0m                                  Traceback (most recent call last)",
            "\u001b[0;32m/usr/local/lib/python3.7/dist-packages/pandas/core/indexes/base.py\u001b[0m in \u001b[0;36mget_loc\u001b[0;34m(self, key, method, tolerance)\u001b[0m\n\u001b[1;32m   3360\u001b[0m             \u001b[0;32mtry\u001b[0m\u001b[0;34m:\u001b[0m\u001b[0;34m\u001b[0m\u001b[0;34m\u001b[0m\u001b[0m\n\u001b[0;32m-> 3361\u001b[0;31m                 \u001b[0;32mreturn\u001b[0m \u001b[0mself\u001b[0m\u001b[0;34m.\u001b[0m\u001b[0m_engine\u001b[0m\u001b[0;34m.\u001b[0m\u001b[0mget_loc\u001b[0m\u001b[0;34m(\u001b[0m\u001b[0mcasted_key\u001b[0m\u001b[0;34m)\u001b[0m\u001b[0;34m\u001b[0m\u001b[0;34m\u001b[0m\u001b[0m\n\u001b[0m\u001b[1;32m   3362\u001b[0m             \u001b[0;32mexcept\u001b[0m \u001b[0mKeyError\u001b[0m \u001b[0;32mas\u001b[0m \u001b[0merr\u001b[0m\u001b[0;34m:\u001b[0m\u001b[0;34m\u001b[0m\u001b[0;34m\u001b[0m\u001b[0m\n",
            "\u001b[0;32m/usr/local/lib/python3.7/dist-packages/pandas/_libs/index.pyx\u001b[0m in \u001b[0;36mpandas._libs.index.IndexEngine.get_loc\u001b[0;34m()\u001b[0m\n",
            "\u001b[0;32m/usr/local/lib/python3.7/dist-packages/pandas/_libs/index.pyx\u001b[0m in \u001b[0;36mpandas._libs.index.IndexEngine.get_loc\u001b[0;34m()\u001b[0m\n",
            "\u001b[0;32mpandas/_libs/hashtable_class_helper.pxi\u001b[0m in \u001b[0;36mpandas._libs.hashtable.PyObjectHashTable.get_item\u001b[0;34m()\u001b[0m\n",
            "\u001b[0;32mpandas/_libs/hashtable_class_helper.pxi\u001b[0m in \u001b[0;36mpandas._libs.hashtable.PyObjectHashTable.get_item\u001b[0;34m()\u001b[0m\n",
            "\u001b[0;31mKeyError\u001b[0m: 'Income'",
            "\nThe above exception was the direct cause of the following exception:\n",
            "\u001b[0;31mKeyError\u001b[0m                                  Traceback (most recent call last)",
            "\u001b[0;32m<ipython-input-70-c39f17ed3873>\u001b[0m in \u001b[0;36m<module>\u001b[0;34m()\u001b[0m\n\u001b[0;32m----> 1\u001b[0;31m \u001b[0mdf\u001b[0m\u001b[0;34m[\u001b[0m\u001b[0;34m'Income'\u001b[0m\u001b[0;34m]\u001b[0m\u001b[0;34m.\u001b[0m\u001b[0mvalue_counts\u001b[0m\u001b[0;34m(\u001b[0m\u001b[0;34m)\u001b[0m\u001b[0;34m\u001b[0m\u001b[0;34m\u001b[0m\u001b[0m\n\u001b[0m",
            "\u001b[0;32m/usr/local/lib/python3.7/dist-packages/pandas/core/frame.py\u001b[0m in \u001b[0;36m__getitem__\u001b[0;34m(self, key)\u001b[0m\n\u001b[1;32m   3456\u001b[0m             \u001b[0;32mif\u001b[0m \u001b[0mself\u001b[0m\u001b[0;34m.\u001b[0m\u001b[0mcolumns\u001b[0m\u001b[0;34m.\u001b[0m\u001b[0mnlevels\u001b[0m \u001b[0;34m>\u001b[0m \u001b[0;36m1\u001b[0m\u001b[0;34m:\u001b[0m\u001b[0;34m\u001b[0m\u001b[0;34m\u001b[0m\u001b[0m\n\u001b[1;32m   3457\u001b[0m                 \u001b[0;32mreturn\u001b[0m \u001b[0mself\u001b[0m\u001b[0;34m.\u001b[0m\u001b[0m_getitem_multilevel\u001b[0m\u001b[0;34m(\u001b[0m\u001b[0mkey\u001b[0m\u001b[0;34m)\u001b[0m\u001b[0;34m\u001b[0m\u001b[0;34m\u001b[0m\u001b[0m\n\u001b[0;32m-> 3458\u001b[0;31m             \u001b[0mindexer\u001b[0m \u001b[0;34m=\u001b[0m \u001b[0mself\u001b[0m\u001b[0;34m.\u001b[0m\u001b[0mcolumns\u001b[0m\u001b[0;34m.\u001b[0m\u001b[0mget_loc\u001b[0m\u001b[0;34m(\u001b[0m\u001b[0mkey\u001b[0m\u001b[0;34m)\u001b[0m\u001b[0;34m\u001b[0m\u001b[0;34m\u001b[0m\u001b[0m\n\u001b[0m\u001b[1;32m   3459\u001b[0m             \u001b[0;32mif\u001b[0m \u001b[0mis_integer\u001b[0m\u001b[0;34m(\u001b[0m\u001b[0mindexer\u001b[0m\u001b[0;34m)\u001b[0m\u001b[0;34m:\u001b[0m\u001b[0;34m\u001b[0m\u001b[0;34m\u001b[0m\u001b[0m\n\u001b[1;32m   3460\u001b[0m                 \u001b[0mindexer\u001b[0m \u001b[0;34m=\u001b[0m \u001b[0;34m[\u001b[0m\u001b[0mindexer\u001b[0m\u001b[0;34m]\u001b[0m\u001b[0;34m\u001b[0m\u001b[0;34m\u001b[0m\u001b[0m\n",
            "\u001b[0;32m/usr/local/lib/python3.7/dist-packages/pandas/core/indexes/base.py\u001b[0m in \u001b[0;36mget_loc\u001b[0;34m(self, key, method, tolerance)\u001b[0m\n\u001b[1;32m   3361\u001b[0m                 \u001b[0;32mreturn\u001b[0m \u001b[0mself\u001b[0m\u001b[0;34m.\u001b[0m\u001b[0m_engine\u001b[0m\u001b[0;34m.\u001b[0m\u001b[0mget_loc\u001b[0m\u001b[0;34m(\u001b[0m\u001b[0mcasted_key\u001b[0m\u001b[0;34m)\u001b[0m\u001b[0;34m\u001b[0m\u001b[0;34m\u001b[0m\u001b[0m\n\u001b[1;32m   3362\u001b[0m             \u001b[0;32mexcept\u001b[0m \u001b[0mKeyError\u001b[0m \u001b[0;32mas\u001b[0m \u001b[0merr\u001b[0m\u001b[0;34m:\u001b[0m\u001b[0;34m\u001b[0m\u001b[0;34m\u001b[0m\u001b[0m\n\u001b[0;32m-> 3363\u001b[0;31m                 \u001b[0;32mraise\u001b[0m \u001b[0mKeyError\u001b[0m\u001b[0;34m(\u001b[0m\u001b[0mkey\u001b[0m\u001b[0;34m)\u001b[0m \u001b[0;32mfrom\u001b[0m \u001b[0merr\u001b[0m\u001b[0;34m\u001b[0m\u001b[0;34m\u001b[0m\u001b[0m\n\u001b[0m\u001b[1;32m   3364\u001b[0m \u001b[0;34m\u001b[0m\u001b[0m\n\u001b[1;32m   3365\u001b[0m         \u001b[0;32mif\u001b[0m \u001b[0mis_scalar\u001b[0m\u001b[0;34m(\u001b[0m\u001b[0mkey\u001b[0m\u001b[0;34m)\u001b[0m \u001b[0;32mand\u001b[0m \u001b[0misna\u001b[0m\u001b[0;34m(\u001b[0m\u001b[0mkey\u001b[0m\u001b[0;34m)\u001b[0m \u001b[0;32mand\u001b[0m \u001b[0;32mnot\u001b[0m \u001b[0mself\u001b[0m\u001b[0;34m.\u001b[0m\u001b[0mhasnans\u001b[0m\u001b[0;34m:\u001b[0m\u001b[0;34m\u001b[0m\u001b[0;34m\u001b[0m\u001b[0m\n",
            "\u001b[0;31mKeyError\u001b[0m: 'Income'"
          ]
        }
      ]
    },
    {
      "cell_type": "code",
      "metadata": {
        "colab": {
          "base_uri": "https://localhost:8080/"
        },
        "id": "JijwhowDY1S_",
        "outputId": "825b535b-3365-42e1-bec4-3a7b3e662795"
      },
      "source": [
        "df.columns"
      ],
      "execution_count": 71,
      "outputs": [
        {
          "output_type": "execute_result",
          "data": {
            "text/plain": [
              "Index(['Age Group', 'Gender', 'Occupation', 'Income ', 'Frequency', 'Purpose',\n",
              "       'Metal', 'Gifting_frequency', 'Gifting_budget', 'Gifting_choice',\n",
              "       'Quality', 'New_design', 'Custom_made', 'Cost', 'Weight_light',\n",
              "       'Weight_heavy', 'Shopping_how', 'Shopping_brand', 'Style', 'Place',\n",
              "       'Rapaport_report', 'Blog'],\n",
              "      dtype='object')"
            ]
          },
          "metadata": {},
          "execution_count": 71
        }
      ]
    },
    {
      "cell_type": "code",
      "metadata": {
        "id": "dEvhU6TgZQ51"
      },
      "source": [
        "df.rename(columns={'Income ':'Income'}, inplace=True)"
      ],
      "execution_count": 72,
      "outputs": []
    },
    {
      "cell_type": "code",
      "metadata": {
        "colab": {
          "base_uri": "https://localhost:8080/"
        },
        "id": "dxcRe-BnZZgl",
        "outputId": "a4476b24-f11d-496c-daec-80dc5d975029"
      },
      "source": [
        "df.columns"
      ],
      "execution_count": 73,
      "outputs": [
        {
          "output_type": "execute_result",
          "data": {
            "text/plain": [
              "Index(['Age Group', 'Gender', 'Occupation', 'Income', 'Frequency', 'Purpose',\n",
              "       'Metal', 'Gifting_frequency', 'Gifting_budget', 'Gifting_choice',\n",
              "       'Quality', 'New_design', 'Custom_made', 'Cost', 'Weight_light',\n",
              "       'Weight_heavy', 'Shopping_how', 'Shopping_brand', 'Style', 'Place',\n",
              "       'Rapaport_report', 'Blog'],\n",
              "      dtype='object')"
            ]
          },
          "metadata": {},
          "execution_count": 73
        }
      ]
    },
    {
      "cell_type": "code",
      "metadata": {
        "id": "AblVP4tSHM_r"
      },
      "source": [
        ""
      ],
      "execution_count": null,
      "outputs": []
    },
    {
      "cell_type": "code",
      "metadata": {
        "colab": {
          "base_uri": "https://localhost:8080/"
        },
        "id": "rovDDHlLZMrp",
        "outputId": "bbb0c4c4-d213-43da-9136-de5013ddcae7"
      },
      "source": [
        "df['Income'].value_counts()"
      ],
      "execution_count": 74,
      "outputs": [
        {
          "output_type": "execute_result",
          "data": {
            "text/plain": [
              "3 Lakh- 5 Lakh       19\n",
              "9 Lakh - 11 Lakh      8\n",
              "11 Lakh - 13 Lakh     6\n",
              "35 Lakh +             3\n",
              "7 Lakh - 9 Lakh       3\n",
              "20 Lakh - 25 Lakh     3\n",
              "5 Lakh - 7 Lakh       3\n",
              "15 Lakh - 20 Lakh     1\n",
              "25 Lakh - 35 Lakh     1\n",
              "Name: Income, dtype: int64"
            ]
          },
          "metadata": {},
          "execution_count": 74
        }
      ]
    },
    {
      "cell_type": "code",
      "metadata": {
        "id": "2bbR9vOaY4C-"
      },
      "source": [
        "df['Income'].fillna(df['Income'].mode(), inplace=True)"
      ],
      "execution_count": 75,
      "outputs": []
    },
    {
      "cell_type": "code",
      "source": [
        "ax = sns.barplot(df['Income'],df['Cost'])\n",
        "plt.xticks(\n",
        "    rotation=45, \n",
        "    horizontalalignment='right',\n",
        "    fontweight='light',\n",
        "    fontsize='small'  \n",
        ")\n",
        "plt.plot()"
      ],
      "metadata": {
        "colab": {
          "base_uri": "https://localhost:8080/",
          "height": 400
        },
        "id": "g6VmOj29gifB",
        "outputId": "3a4d51bf-4977-42e4-bafd-fada6b7eab40"
      },
      "execution_count": 77,
      "outputs": [
        {
          "output_type": "stream",
          "name": "stderr",
          "text": [
            "/usr/local/lib/python3.7/dist-packages/seaborn/_decorators.py:43: FutureWarning: Pass the following variables as keyword args: x, y. From version 0.12, the only valid positional argument will be `data`, and passing other arguments without an explicit keyword will result in an error or misinterpretation.\n",
            "  FutureWarning\n"
          ]
        },
        {
          "output_type": "execute_result",
          "data": {
            "text/plain": [
              "[]"
            ]
          },
          "metadata": {},
          "execution_count": 77
        },
        {
          "output_type": "display_data",
          "data": {
            "text/plain": [
              "<Figure size 432x288 with 1 Axes>"
            ],
            "image/png": "[encoded data removed]"
          },
          "metadata": {
            "needs_background": "light"
          }
        }
      ]
    },
    {
      "cell_type": "code",
      "metadata": {
        "colab": {
          "base_uri": "https://localhost:8080/",
          "height": 400
        },
        "id": "jjdTYQ3u2Dev",
        "outputId": "660b7c59-6e2f-4706-dd1c-a82a52db6024"
      },
      "source": [
        "ax = sns.barplot(df['Income'],df['Cost'], hue=df['Gender'])\n",
        "plt.xticks(\n",
        "    rotation=45, \n",
        "    horizontalalignment='right',\n",
        "    fontweight='light',\n",
        "    fontsize='small'  \n",
        ")\n",
        "plt.plot()"
      ],
      "execution_count": 76,
      "outputs": [
        {
          "output_type": "stream",
          "name": "stderr",
          "text": [
            "/usr/local/lib/python3.7/dist-packages/seaborn/_decorators.py:43: FutureWarning: Pass the following variables as keyword args: x, y. From version 0.12, the only valid positional argument will be `data`, and passing other arguments without an explicit keyword will result in an error or misinterpretation.\n",
            "  FutureWarning\n"
          ]
        },
        {
          "output_type": "execute_result",
          "data": {
            "text/plain": [
              "[]"
            ]
          },
          "metadata": {},
          "execution_count": 76
        },
        {
          "output_type": "display_data",
          "data": {
            "text/plain": [
              "<Figure size 432x288 with 1 Axes>"
            ],
            "image/png": "[encoded data removed]"
          },
          "metadata": {
            "needs_background": "light"
          }
        }
      ]
    },
    {
      "cell_type": "code",
      "metadata": {
        "colab": {
          "base_uri": "https://localhost:8080/",
          "height": 469
        },
        "id": "cCqeydGngb7s",
        "outputId": "e6c16c71-d0b8-4ddc-8822-daa9ab3aa5d6"
      },
      "source": [
        "plt.figure(figsize=(8,4))\n",
        "ax = sns.catplot(data=df, kind=\"bar\", x=\"Income\", y=\"Cost\", hue=\"Gender\")\n",
        "ax.set_axis_labels(\"Income\", \"Cost\")\n",
        "ax.set_titles(\"here\")\n",
        "plt.xticks(\n",
        "    rotation=45, \n",
        "    horizontalalignment='right',\n",
        "    fontweight='light',\n",
        "    fontsize='small'  \n",
        ")"
      ],
      "execution_count": null,
      "outputs": [
        {
          "data": {
            "text/plain": [
              "(array([0, 1, 2, 3, 4, 5, 6, 7, 8]),\n",
              " <a list of 9 Text major ticklabel objects>)"
            ]
          },
          "execution_count": 93,
          "metadata": {},
          "output_type": "execute_result"
        },
        {
          "data": {
            "text/plain": [
              "<Figure size 576x288 with 0 Axes>"
            ]
          },
          "metadata": {},
          "output_type": "display_data"
        },
        {
          "data": {
            "image/png": "[encoded data removed]",
            "text/plain": [
              "<Figure size 432.125x360 with 1 Axes>"
            ]
          },
          "metadata": {},
          "output_type": "display_data"
        }
      ]
    },
    {
      "cell_type": "code",
      "metadata": {
        "colab": {
          "base_uri": "https://localhost:8080/"
        },
        "id": "bm6w_Eoh_lqU",
        "outputId": "277acdb1-a41f-4515-8b00-d5a276c024eb"
      },
      "source": [
        "df['Metal'].value_counts()"
      ],
      "execution_count": 78,
      "outputs": [
        {
          "output_type": "execute_result",
          "data": {
            "text/plain": [
              "GOLD                                                                             20\n",
              "GOLD, SILVER Or STERLING SILVER                                                  15\n",
              "GOLD, IMITATION JEWELLERY                                                         7\n",
              "IMITATION JEWELLERY                                                               5\n",
              "GOLD, SILVER Or STERLING SILVER, IMITATION JEWELLERY                              4\n",
              "SILVER Or STERLING SILVER, IMITATION JEWELLERY                                    4\n",
              "SILVER Or STERLING SILVER                                                         4\n",
              "GOLD, PLATINUM                                                                    3\n",
              "GOLD, SILVER Or STERLING SILVER, PLATINUM                                         3\n",
              "SILVER Or STERLING SILVER, GERMAN SILVER                                          1\n",
              "SILVER Or STERLING SILVER, PLATINUM                                               1\n",
              "SILVER Or STERLING SILVER, GERMAN SILVER, PLATINUM                                1\n",
              "GOLD, SILVER Or STERLING SILVER, GERMAN SILVER, IMITATION JEWELLERY               1\n",
              "PLATINUM                                                                          1\n",
              "SILVER Or STERLING SILVER, GERMAN SILVER, PLATINUM, IMITATION JEWELLERY           1\n",
              "GOLD, SILVER Or STERLING SILVER, GERMAN SILVER, PLATINUM, IMITATION JEWELLERY     1\n",
              "SILVER Or STERLING SILVER, GERMAN SILVER, IMITATION JEWELLERY                     1\n",
              "Name: Metal, dtype: int64"
            ]
          },
          "metadata": {},
          "execution_count": 78
        }
      ]
    },
    {
      "cell_type": "code",
      "metadata": {
        "colab": {
          "base_uri": "https://localhost:8080/"
        },
        "id": "dNX7MtLqDkp4",
        "outputId": "0a6102e2-cc65-4151-c960-3810c58674cc"
      },
      "source": [
        "df['Metal'].isna().sum()"
      ],
      "execution_count": 79,
      "outputs": [
        {
          "output_type": "execute_result",
          "data": {
            "text/plain": [
              "0"
            ]
          },
          "metadata": {},
          "execution_count": 79
        }
      ]
    },
    {
      "cell_type": "code",
      "metadata": {
        "colab": {
          "base_uri": "https://localhost:8080/"
        },
        "id": "JKeI5mAdJD9U",
        "outputId": "2ec018a1-acd7-44d9-fe06-fc1b43ac5eba"
      },
      "source": [
        "'GOLD, SILVER Or STERLING SILVER, GERMAN SILVER, IMITATION JEWELLERY'.split(',')"
      ],
      "execution_count": 81,
      "outputs": [
        {
          "output_type": "execute_result",
          "data": {
            "text/plain": [
              "['GOLD',\n",
              " ' SILVER Or STERLING SILVER',\n",
              " ' GERMAN SILVER',\n",
              " ' IMITATION JEWELLERY']"
            ]
          },
          "metadata": {},
          "execution_count": 81
        }
      ]
    },
    {
      "cell_type": "code",
      "source": [
        ""
      ],
      "metadata": {
        "id": "fhRlzDcHiRIk"
      },
      "execution_count": null,
      "outputs": []
    },
    {
      "cell_type": "code",
      "source": [
        "df.columns"
      ],
      "metadata": {
        "colab": {
          "base_uri": "https://localhost:8080/"
        },
        "id": "xhMNRrGhiQ44",
        "outputId": "2115d550-771b-4834-8dcb-bf9b7b223ebd"
      },
      "execution_count": 84,
      "outputs": [
        {
          "output_type": "execute_result",
          "data": {
            "text/plain": [
              "Index(['Age Group', 'Gender', 'Occupation', 'Income', 'Frequency', 'Purpose',\n",
              "       'Metal', 'Gifting_frequency', 'Gifting_budget', 'Gifting_choice',\n",
              "       'Quality', 'New_design', 'Custom_made', 'Cost', 'Weight_light',\n",
              "       'Weight_heavy', 'Shopping_how', 'Shopping_brand', 'Style', 'Place',\n",
              "       'Rapaport_report', 'Blog', 'Metal_split'],\n",
              "      dtype='object')"
            ]
          },
          "metadata": {},
          "execution_count": 84
        }
      ]
    },
    {
      "cell_type": "code",
      "metadata": {
        "colab": {
          "base_uri": "https://localhost:8080/"
        },
        "id": "FbnXu-R5DD64",
        "outputId": "8930eff5-0661-41e7-a19c-4a7a0689fcf7"
      },
      "source": [
        "df['Metal_split'] = df['Metal'].str.split(',')\n",
        "df['Metal_split'].head(10)"
      ],
      "execution_count": 83,
      "outputs": [
        {
          "output_type": "execute_result",
          "data": {
            "text/plain": [
              "0                                               [GOLD]\n",
              "1                                               [GOLD]\n",
              "2                                               [GOLD]\n",
              "3    [GOLD,  SILVER Or STERLING SILVER,  IMITATION ...\n",
              "4                                               [GOLD]\n",
              "5                                [IMITATION JEWELLERY]\n",
              "6                                               [GOLD]\n",
              "7                   [GOLD,  SILVER Or STERLING SILVER]\n",
              "8                                               [GOLD]\n",
              "9                                               [GOLD]\n",
              "Name: Metal_split, dtype: object"
            ]
          },
          "metadata": {},
          "execution_count": 83
        }
      ]
    },
    {
      "cell_type": "code",
      "metadata": {
        "id": "_skW10BKD4RB"
      },
      "source": [
        "df_metal = df.explode('Metal_split')\n",
        "df_metal['Metal_split'].head()\n",
        "df_metal['Metal_split'] = df_metal['Metal_split'].str.strip()"
      ],
      "execution_count": 92,
      "outputs": []
    },
    {
      "cell_type": "code",
      "metadata": {
        "colab": {
          "base_uri": "https://localhost:8080/"
        },
        "id": "AX7QYQQ2FnWu",
        "outputId": "0a7c3eac-6af7-4810-d97e-35f6bfc308db"
      },
      "source": [
        "df_metal['Metal_split'].value_counts()"
      ],
      "execution_count": 91,
      "outputs": [
        {
          "output_type": "execute_result",
          "data": {
            "text/plain": [
              "GOLD                          54\n",
              " SILVER Or STERLING SILVER    24\n",
              " IMITATION JEWELLERY          19\n",
              "SILVER Or STERLING SILVER     13\n",
              " PLATINUM                     10\n",
              " GERMAN SILVER                 6\n",
              "IMITATION JEWELLERY            5\n",
              "PLATINUM                       1\n",
              "Name: Metal_split, dtype: int64"
            ]
          },
          "metadata": {},
          "execution_count": 91
        }
      ]
    },
    {
      "cell_type": "code",
      "source": [
        "df_metal['Metal_split'].value_counts()"
      ],
      "metadata": {
        "colab": {
          "base_uri": "https://localhost:8080/"
        },
        "id": "E3kp1A1Vjbb8",
        "outputId": "bf1a4b15-5ba1-4cd7-ec79-31d8911d3ab9"
      },
      "execution_count": 93,
      "outputs": [
        {
          "output_type": "execute_result",
          "data": {
            "text/plain": [
              "GOLD                         54\n",
              "SILVER Or STERLING SILVER    37\n",
              "IMITATION JEWELLERY          24\n",
              "PLATINUM                     11\n",
              "GERMAN SILVER                 6\n",
              "Name: Metal_split, dtype: int64"
            ]
          },
          "metadata": {},
          "execution_count": 93
        }
      ]
    },
    {
      "cell_type": "code",
      "metadata": {
        "colab": {
          "base_uri": "https://localhost:8080/",
          "height": 376
        },
        "id": "I8EAVn9F-7zV",
        "outputId": "fdd5d063-39ab-434a-b2c1-9a507bfdb2df"
      },
      "source": [
        "sns.histplot(df_metal['Metal_split'])\n",
        "plt.xticks(rotation=45, \n",
        "    horizontalalignment='right',\n",
        "    fontweight='light',\n",
        "    fontsize='small')"
      ],
      "execution_count": 94,
      "outputs": [
        {
          "output_type": "execute_result",
          "data": {
            "text/plain": [
              "([0, 1, 2, 3, 4], <a list of 5 Text major ticklabel objects>)"
            ]
          },
          "metadata": {},
          "execution_count": 94
        },
        {
          "output_type": "display_data",
          "data": {
            "text/plain": [
              "<Figure size 432x288 with 1 Axes>"
            ],
            "image/png": "[encoded data removed]"
          },
          "metadata": {
            "needs_background": "light"
          }
        }
      ]
    },
    {
      "cell_type": "code",
      "metadata": {
        "colab": {
          "base_uri": "https://localhost:8080/",
          "height": 351
        },
        "id": "R-f3jyVyIqNx",
        "outputId": "cd8ba415-1c35-4234-8797-7aece07c002d"
      },
      "source": [
        "sns.barplot(df_metal['Metal_split'], df_metal['Cost'])"
      ],
      "execution_count": null,
      "outputs": [
        {
          "output_type": "stream",
          "name": "stderr",
          "text": [
            "/usr/local/lib/python3.7/dist-packages/seaborn/_decorators.py:43: FutureWarning: Pass the following variables as keyword args: x, y. From version 0.12, the only valid positional argument will be `data`, and passing other arguments without an explicit keyword will result in an error or misinterpretation.\n",
            "  FutureWarning\n"
          ]
        },
        {
          "output_type": "execute_result",
          "data": {
            "text/plain": [
              "<matplotlib.axes._subplots.AxesSubplot at 0x7fd4a2bdcb90>"
            ]
          },
          "metadata": {},
          "execution_count": 46
        },
        {
          "output_type": "display_data",
          "data": {
            "image/png": "[encoded data removed]",
            "text/plain": [
              "<Figure size 432x288 with 1 Axes>"
            ]
          },
          "metadata": {
            "needs_background": "light"
          }
        }
      ]
    },
    {
      "cell_type": "code",
      "metadata": {
        "colab": {
          "base_uri": "https://localhost:8080/"
        },
        "id": "J-byIrM6JM3H",
        "outputId": "95dfa5fa-2662-4e46-d11b-435c4d595961"
      },
      "source": [
        "df['Quality'].isnull().sum()"
      ],
      "execution_count": null,
      "outputs": [
        {
          "output_type": "execute_result",
          "data": {
            "text/plain": [
              "5"
            ]
          },
          "metadata": {},
          "execution_count": 47
        }
      ]
    },
    {
      "cell_type": "code",
      "metadata": {
        "colab": {
          "base_uri": "https://localhost:8080/"
        },
        "id": "bwROGwenJQSl",
        "outputId": "0dbb010a-6c8e-4bd9-9fb0-75565293cccf"
      },
      "source": [
        "df['Quality'].value_counts()"
      ],
      "execution_count": null,
      "outputs": [
        {
          "output_type": "execute_result",
          "data": {
            "text/plain": [
              "1.0    31\n",
              "3.0    10\n",
              "6.0     9\n",
              "5.0     5\n",
              "2.0     1\n",
              "4.0     1\n",
              "Name: Quality, dtype: int64"
            ]
          },
          "metadata": {},
          "execution_count": 48
        }
      ]
    },
    {
      "cell_type": "code",
      "metadata": {
        "id": "ax7TPvKdJTfp"
      },
      "source": [
        "df['Quality'].fillna(df['Quality'].mode(), inplace=True)"
      ],
      "execution_count": null,
      "outputs": []
    },
    {
      "cell_type": "code",
      "metadata": {
        "colab": {
          "base_uri": "https://localhost:8080/",
          "height": 282
        },
        "id": "I1shjdaxJ_uP",
        "outputId": "93f80fe1-8b2a-44e8-84a8-01238e24c93c"
      },
      "source": [
        "plt.scatter(df['Quality'], df['Cost'])"
      ],
      "execution_count": null,
      "outputs": [
        {
          "output_type": "execute_result",
          "data": {
            "text/plain": [
              "<matplotlib.collections.PathCollection at 0x7fd4a2ac1fd0>"
            ]
          },
          "metadata": {},
          "execution_count": 50
        },
        {
          "output_type": "display_data",
          "data": {
            "image/png": "[encoded data removed]",
            "text/plain": [
              "<Figure size 432x288 with 1 Axes>"
            ]
          },
          "metadata": {
            "needs_background": "light"
          }
        }
      ]
    },
    {
      "cell_type": "code",
      "metadata": {
        "colab": {
          "base_uri": "https://localhost:8080/"
        },
        "id": "V0BmYcfpKSMS",
        "outputId": "435477ba-fa6f-496f-b6d6-668199bb1120"
      },
      "source": [
        "df['Place'].value_counts()"
      ],
      "execution_count": null,
      "outputs": [
        {
          "output_type": "execute_result",
          "data": {
            "text/plain": [
              "Metropolitan Cities( like Bengaluru, Mumbai, Delhi , Chennai, Kolkata ,etc)    61\n",
              "Rural Areas                                                                     1\n",
              "Name: Place, dtype: int64"
            ]
          },
          "metadata": {},
          "execution_count": 51
        }
      ]
    },
    {
      "cell_type": "code",
      "metadata": {
        "id": "cPTjL50_KUTA"
      },
      "source": [
        "df['Place'].replace('Metropolitan Cities( like Bengaluru, Mumbai, Delhi , Chennai, Kolkata ,etc)', 'City', inplace=True)"
      ],
      "execution_count": null,
      "outputs": []
    },
    {
      "cell_type": "code",
      "metadata": {
        "colab": {
          "base_uri": "https://localhost:8080/"
        },
        "id": "XJ6lzO_RKvgh",
        "outputId": "6afc689d-7e83-426f-f109-7d104d23e94b"
      },
      "source": [
        "df['Place'].value_counts()"
      ],
      "execution_count": null,
      "outputs": [
        {
          "output_type": "execute_result",
          "data": {
            "text/plain": [
              "City           61\n",
              "Rural Areas     1\n",
              "Name: Place, dtype: int64"
            ]
          },
          "metadata": {},
          "execution_count": 53
        }
      ]
    },
    {
      "cell_type": "code",
      "metadata": {
        "id": "XsdNAkzALG5n"
      },
      "source": [
        ""
      ],
      "execution_count": null,
      "outputs": []
    }
  ]
}